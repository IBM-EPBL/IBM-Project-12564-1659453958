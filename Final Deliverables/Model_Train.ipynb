{
  "nbformat": 4,
  "nbformat_minor": 0,
  "metadata": {
    "colab": {
      "provenance": [],
      "collapsed_sections": []
    },
    "kernelspec": {
      "name": "python3",
      "display_name": "Python 3"
    },
    "accelerator": "GPU"
  },
  "cells": [
    {
      "metadata": {
        "id": "D7U02zt_c8Ft"
      },
      "cell_type": "code",
      "source": [
        "#importing the necessary modules\n",
        "from keras.datasets import mnist\n",
        "import numpy as np"
      ],
      "execution_count": null,
      "outputs": []
    },
    {
      "metadata": {
        "id": "ejfQluMac8Fw",
        "colab": {
          "base_uri": "https://localhost:8080/"
        },
        "outputId": "94b80470-4d80-4224-c5a0-03ebaf7e25bb"
      },
      "cell_type": "code",
      "source": [
        "#loading data\n",
        "(xtrain,ytrain),(xtest,ytest)=mnist.load_data()"
      ],
      "execution_count": null,
      "outputs": [
        {
          "output_type": "stream",
          "name": "stdout",
          "text": [
            "Downloading data from https://storage.googleapis.com/tensorflow/tf-keras-datasets/mnist.npz\n",
            "11490434/11490434 [==============================] - 2s 0us/step\n"
          ]
        }
      ]
    },
    {
      "metadata": {
        "id": "5jUCkrJMb9uF",
        "colab": {
          "base_uri": "https://localhost:8080/",
          "height": 300
        },
        "outputId": "acd7fef9-b502-4575-c0d5-66b7a6b2861e"
      },
      "cell_type": "code",
      "source": [
        "#What mnist images look like\n",
        "import matplotlib.pyplot as plt\n",
        "print(\"Training data:\")\n",
        "plt.imshow(xtrain[4])\n",
        "plt.show()\n",
        "print(\"Label of this image is\",ytrain[4])"
      ],
      "execution_count": null,
      "outputs": [
        {
          "output_type": "stream",
          "name": "stdout",
          "text": [
            "Training data:\n"
          ]
        },
        {
          "output_type": "display_data",
          "data": {
            "text/plain": [
              "<Figure size 432x288 with 1 Axes>"
            ],
            "image/png": "[encoded data removed]"
          },
          "metadata": {
            "needs_background": "light"
          }
        },
        {
          "output_type": "stream",
          "name": "stdout",
          "text": [
            "Label of this image is 9\n"
          ]
        }
      ]
    },
    {
      "metadata": {
        "id": "Nw6B0K2Jc8Fz",
        "outputId": "c72e3b47-dd13-499f-92ec-7ed0b7863d7c",
        "colab": {
          "base_uri": "https://localhost:8080/"
        }
      },
      "cell_type": "code",
      "source": [
        "#reshaping data as needed by the model\n",
        "xtrain=np.reshape(xtrain,(-1,28,28,1))\n",
        "xtest=np.reshape(xtest,(-1,28,28,1))\n",
        "xtrain.shape,xtest.shape,ytrain.shape,ytest.shape"
      ],
      "execution_count": null,
      "outputs": [
        {
          "output_type": "execute_result",
          "data": {
            "text/plain": [
              "((60000, 28, 28, 1), (10000, 28, 28, 1), (60000,), (10000,))"
            ]
          },
          "metadata": {},
          "execution_count": 5
        }
      ]
    },
    {
      "metadata": {
        "id": "O_JncxhQARaI"
      },
      "cell_type": "code",
      "source": [
        "#normalising\n",
        "xtrain=xtrain/255\n",
        "xtest=xtest/255"
      ],
      "execution_count": null,
      "outputs": []
    },
    {
      "metadata": {
        "id": "lnvVkc6ec8F3"
      },
      "cell_type": "code",
      "source": [
        "#implementing one hot encoding\n",
        "from keras.utils.np_utils import to_categorical\n",
        "y_train = to_categorical(ytrain, num_classes=10)\n",
        "y_test = to_categorical(ytest, num_classes=10)"
      ],
      "execution_count": null,
      "outputs": []
    },
    {
      "metadata": {
        "id": "Pkvwf0pLc8F5"
      },
      "cell_type": "code",
      "source": [
        "#importing the model\n",
        "from keras.models import Sequential"
      ],
      "execution_count": null,
      "outputs": []
    },
    {
      "metadata": {
        "id": "Z-ltHdtbc8F7"
      },
      "cell_type": "code",
      "source": [
        "#creating model object\n",
        "model=Sequential()"
      ],
      "execution_count": null,
      "outputs": []
    },
    {
      "metadata": {
        "id": "9HwMYc_fc8F9"
      },
      "cell_type": "code",
      "source": [
        "#importing layers\n",
        "from keras.layers import Conv2D,MaxPooling2D,Flatten,Dense,Dropout"
      ],
      "execution_count": null,
      "outputs": []
    },
    {
      "metadata": {
        "id": "W6sDtwOec8GB"
      },
      "cell_type": "code",
      "source": [
        "#adding layers and forming the model\n",
        "model.add(Conv2D(32,kernel_size=5,strides=1,padding=\"Same\",activation=\"relu\",input_shape=(28,28,1)))\n",
        "model.add(MaxPooling2D(padding=\"same\"))\n",
        "\n",
        "model.add(Conv2D(64,kernel_size=5,strides=1,padding=\"same\",activation=\"relu\"))\n",
        "model.add(MaxPooling2D(padding=\"same\"))\n",
        "\n",
        "model.add(Flatten())\n",
        "\n",
        "model.add(Dense(1024,activation=\"relu\"))\n",
        "model.add(Dropout(0.2))\n",
        "model.add(Dense(10,activation=\"sigmoid\"))"
      ],
      "execution_count": null,
      "outputs": []
    },
    {
      "metadata": {
        "id": "TUQetKGHc8GE"
      },
      "cell_type": "code",
      "source": [
        "#compiling\n",
        "model.compile(optimizer=\"adam\",loss=\"categorical_crossentropy\",metrics=[\"accuracy\"])"
      ],
      "execution_count": null,
      "outputs": []
    },
    {
      "metadata": {
        "id": "KYU-n7F9c8GH",
        "outputId": "166f3f40-ad9b-45c2-a6a7-928ef596c607",
        "colab": {
          "base_uri": "https://localhost:8080/"
        }
      },
      "cell_type": "code",
      "source": [
        "#training the model\n",
        "model.fit(xtrain,y_train,batch_size=100,epochs=5,validation_data=(xtest,y_test))"
      ],
      "execution_count": null,
      "outputs": [
        {
          "output_type": "stream",
          "name": "stdout",
          "text": [
            "Epoch 1/5\n",
            "600/600 [==============================] - 12s 6ms/step - loss: 0.1287 - accuracy: 0.9598 - val_loss: 0.0425 - val_accuracy: 0.9860\n",
            "Epoch 2/5\n",
            "600/600 [==============================] - 4s 6ms/step - loss: 0.0378 - accuracy: 0.9877 - val_loss: 0.0297 - val_accuracy: 0.9906\n",
            "Epoch 3/5\n",
            "600/600 [==============================] - 4s 6ms/step - loss: 0.0255 - accuracy: 0.9922 - val_loss: 0.0277 - val_accuracy: 0.9901\n",
            "Epoch 4/5\n",
            "600/600 [==============================] - 4s 6ms/step - loss: 0.0194 - accuracy: 0.9935 - val_loss: 0.0284 - val_accuracy: 0.9910\n",
            "Epoch 5/5\n",
            "600/600 [==============================] - 4s 6ms/step - loss: 0.0144 - accuracy: 0.9954 - val_loss: 0.0296 - val_accuracy: 0.9913\n"
          ]
        },
        {
          "output_type": "execute_result",
          "data": {
            "text/plain": [
              "<keras.callbacks.History at 0x7f80403c9790>"
            ]
          },
          "metadata": {},
          "execution_count": 13
        }
      ]
    },
    {
      "metadata": {
        "id": "X9rt0HiFc8GK",
        "outputId": "e817d423-43cd-48f6-98ac-c3f513cc1007",
        "colab": {
          "base_uri": "https://localhost:8080/"
        }
      },
      "cell_type": "code",
      "source": [
        "#model train and test scores\n",
        "model.evaluate(xtrain,y_train),model.evaluate(xtest,y_test)"
      ],
      "execution_count": null,
      "outputs": [
        {
          "output_type": "stream",
          "name": "stdout",
          "text": [
            "1875/1875 [==============================] - 7s 4ms/step - loss: 0.0113 - accuracy: 0.9961\n",
            "313/313 [==============================] - 1s 3ms/step - loss: 0.0296 - accuracy: 0.9913\n"
          ]
        },
        {
          "output_type": "execute_result",
          "data": {
            "text/plain": [
              "([0.011272789910435677, 0.9961333274841309],\n",
              " [0.02955915778875351, 0.9912999868392944])"
            ]
          },
          "metadata": {},
          "execution_count": 14
        }
      ]
    },
    {
      "cell_type": "code",
      "source": [
        "model.save(\"CNN_MNIST.h5\")"
      ],
      "metadata": {
        "id": "escO3vDqn8X9"
      },
      "execution_count": null,
      "outputs": []
    }
  ]
}