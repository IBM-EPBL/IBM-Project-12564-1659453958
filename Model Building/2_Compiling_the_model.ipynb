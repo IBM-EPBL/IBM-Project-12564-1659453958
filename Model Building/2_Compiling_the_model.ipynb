{
  "nbformat": 4,
  "nbformat_minor": 0,
  "metadata": {
    "colab": {
      "provenance": []
    },
    "kernelspec": {
      "name": "python3",
      "display_name": "Python 3"
    },
    "language_info": {
      "name": "python"
    }
  },
  "cells": [
    {
      "metadata": {
        "id": "TUQetKGHc8GE"
      },
      "cell_type": "code",
      "source": [
        "#compiling\n",
        "model.compile(optimizer=\"adam\",loss=\"categorical_crossentropy\",metrics=[\"accuracy\"])"
      ],
      "execution_count": null,
      "outputs": []
    },
    {
      "metadata": {
        "id": "KYU-n7F9c8GH",
        "outputId": "166f3f40-ad9b-45c2-a6a7-928ef596c607",
        "colab": {
          "base_uri": "https://localhost:8080/"
        }
      },
      "cell_type": "code",
      "source": [
        "#training the model\n",
        "model.fit(xtrain,y_train,batch_size=100,epochs=5,validation_data=(xtest,y_test))"
      ],
      "execution_count": null,
      "outputs": [
        {
          "output_type": "stream",
          "name": "stdout",
          "text": [
            "Epoch 1/5\n",
            "600/600 [==============================] - 12s 6ms/step - loss: 0.1287 - accuracy: 0.9598 - val_loss: 0.0425 - val_accuracy: 0.9860\n",
            "Epoch 2/5\n",
            "600/600 [==============================] - 4s 6ms/step - loss: 0.0378 - accuracy: 0.9877 - val_loss: 0.0297 - val_accuracy: 0.9906\n",
            "Epoch 3/5\n",
            "600/600 [==============================] - 4s 6ms/step - loss: 0.0255 - accuracy: 0.9922 - val_loss: 0.0277 - val_accuracy: 0.9901\n",
            "Epoch 4/5\n",
            "600/600 [==============================] - 4s 6ms/step - loss: 0.0194 - accuracy: 0.9935 - val_loss: 0.0284 - val_accuracy: 0.9910\n",
            "Epoch 5/5\n",
            "600/600 [==============================] - 4s 6ms/step - loss: 0.0144 - accuracy: 0.9954 - val_loss: 0.0296 - val_accuracy: 0.9913\n"
          ]
        },
        {
          "output_type": "execute_result",
          "data": {
            "text/plain": [
              "<keras.callbacks.History at 0x7f80403c9790>"
            ]
          },
          "metadata": {},
          "execution_count": 13
        }
      ]
    }
  ]
}