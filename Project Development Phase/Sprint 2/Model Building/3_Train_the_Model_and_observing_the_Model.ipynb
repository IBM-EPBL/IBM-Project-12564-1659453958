{
  "nbformat": 4,
  "nbformat_minor": 0,
  "metadata": {
    "colab": {
      "provenance": []
    },
    "kernelspec": {
      "name": "python3",
      "display_name": "Python 3"
    },
    "language_info": {
      "name": "python"
    }
  },
  "cells": [
    {
      "cell_type": "code",
      "source": [
        "from tensorflow.keras.callbacks import EarlyStopping\n",
        "early_stop = EarlyStopping(monitor='val_loss',patience=2)"
      ],
      "metadata": {
        "id": "nGNptuILTlEW"
      },
      "execution_count": null,
      "outputs": []
    },
    {
      "metadata": {
        "id": "KYU-n7F9c8GH",
        "outputId": "07c255a9-16a7-41d0-fc86-1a356eafa16b",
        "colab": {
          "base_uri": "https://localhost:8080/"
        }
      },
      "cell_type": "code",
      "source": [
        "#training the model\n",
        "model.fit(xtrain,y_train,batch_size=100,epochs=5,validation_data=(xtest,y_test),callbacks=[early_stop])"
      ],
      "execution_count": null,
      "outputs": [
        {
          "output_type": "stream",
          "name": "stdout",
          "text": [
            "Epoch 1/5\n",
            "600/600 [==============================] - 12s 12ms/step - loss: 0.1240 - accuracy: 0.9610 - val_loss: 0.0461 - val_accuracy: 0.9843\n",
            "Epoch 2/5\n",
            "600/600 [==============================] - 8s 13ms/step - loss: 0.0396 - accuracy: 0.9877 - val_loss: 0.0296 - val_accuracy: 0.9897\n",
            "Epoch 3/5\n",
            "600/600 [==============================] - 5s 9ms/step - loss: 0.0262 - accuracy: 0.9912 - val_loss: 0.0284 - val_accuracy: 0.9903\n",
            "Epoch 4/5\n",
            "600/600 [==============================] - 4s 6ms/step - loss: 0.0190 - accuracy: 0.9938 - val_loss: 0.0202 - val_accuracy: 0.9931\n",
            "Epoch 5/5\n",
            "600/600 [==============================] - 4s 6ms/step - loss: 0.0140 - accuracy: 0.9953 - val_loss: 0.0304 - val_accuracy: 0.9912\n"
          ]
        },
        {
          "output_type": "execute_result",
          "data": {
            "text/plain": [
              "<keras.callbacks.History at 0x7f4f44344790>"
            ]
          },
          "metadata": {},
          "execution_count": 13
        }
      ]
    },
    {
      "metadata": {
        "id": "X9rt0HiFc8GK",
        "outputId": "92d03907-ac12-4bcf-c820-2411c3733940",
        "colab": {
          "base_uri": "https://localhost:8080/"
        }
      },
      "cell_type": "code",
      "source": [
        "#model train and test scores\n",
        "model.evaluate(xtrain,y_train),model.evaluate(xtest,y_test)"
      ],
      "execution_count": null,
      "outputs": [
        {
          "output_type": "stream",
          "name": "stdout",
          "text": [
            "1875/1875 [==============================] - 6s 3ms/step - loss: 0.0090 - accuracy: 0.9970\n",
            "313/313 [==============================] - 1s 3ms/step - loss: 0.0304 - accuracy: 0.9912\n"
          ]
        },
        {
          "output_type": "execute_result",
          "data": {
            "text/plain": [
              "([0.00898015033453703, 0.9969833493232727],\n",
              " [0.030424315482378006, 0.9911999702453613])"
            ]
          },
          "metadata": {},
          "execution_count": 14
        }
      ]
    },
    {
      "cell_type": "code",
      "source": [
        "print(model.metrics_names)\n",
        "print(model.evaluate(xtest,y_test,verbose=0))"
      ],
      "metadata": {
        "colab": {
          "base_uri": "https://localhost:8080/"
        },
        "id": "tqOJRf6OTFrh",
        "outputId": "94d76607-4f75-42ab-cbf8-3f0ce99c2291"
      },
      "execution_count": null,
      "outputs": [
        {
          "output_type": "stream",
          "name": "stdout",
          "text": [
            "['loss', 'accuracy']\n",
            "[0.030424315482378006, 0.9911999702453613]\n"
          ]
        }
      ]
    }
  ]
}