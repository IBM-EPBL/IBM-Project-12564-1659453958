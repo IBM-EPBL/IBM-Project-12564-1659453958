{
  "nbformat": 4,
  "nbformat_minor": 0,
  "metadata": {
    "colab": {
      "provenance": []
    },
    "kernelspec": {
      "name": "python3",
      "display_name": "Python 3"
    },
    "accelerator": "GPU"
  },
  "cells": [
    {
      "cell_type": "code",
      "source": [
        "#Team ID:PNT2022TMID13012\n",
        "#Project Name: A Novel Method for Handwritten Digit Recognition System"
      ],
      "metadata": {
        "id": "WeprwD2D7TBp"
      },
      "execution_count": null,
      "outputs": []
    },
    {
      "metadata": {
        "id": "D7U02zt_c8Ft"
      },
      "cell_type": "code",
      "source": [
        "#importing the necessary modules\n",
        "from keras.datasets import mnist\n",
        "import numpy as np\n",
        "import pandas as pd"
      ],
      "execution_count": null,
      "outputs": []
    },
    {
      "metadata": {
        "id": "ejfQluMac8Fw",
        "colab": {
          "base_uri": "https://localhost:8080/"
        },
        "outputId": "7ca0483a-8d63-490e-a009-f63937e35d9c"
      },
      "cell_type": "code",
      "source": [
        "#loading data\n",
        "(xtrain,ytrain),(xtest,ytest)=mnist.load_data()"
      ],
      "execution_count": null,
      "outputs": [
        {
          "output_type": "stream",
          "name": "stdout",
          "text": [
            "Downloading data from https://storage.googleapis.com/tensorflow/tf-keras-datasets/mnist.npz\n",
            "11490434/11490434 [==============================] - 2s 0us/step\n"
          ]
        }
      ]
    },
    {
      "metadata": {
        "id": "5jUCkrJMb9uF",
        "colab": {
          "base_uri": "https://localhost:8080/",
          "height": 300
        },
        "outputId": "c760b83f-064a-472a-9932-f6b1e9745759"
      },
      "cell_type": "code",
      "source": [
        "#What mnist images look like\n",
        "import matplotlib.pyplot as plt\n",
        "print(\"Training data:\")\n",
        "plt.imshow(xtrain[4])\n",
        "plt.show()\n",
        "print(\"Label of this image is\",ytrain[4])"
      ],
      "execution_count": null,
      "outputs": [
        {
          "output_type": "stream",
          "name": "stdout",
          "text": [
            "Training data:\n"
          ]
        },
        {
          "output_type": "display_data",
          "data": {
            "text/plain": [
              "<Figure size 432x288 with 1 Axes>"
            ],
            "image/png": "[encoded data removed]"
          },
          "metadata": {
            "needs_background": "light"
          }
        },
        {
          "output_type": "stream",
          "name": "stdout",
          "text": [
            "Label of this image is 9\n"
          ]
        }
      ]
    },
    {
      "metadata": {
        "id": "Nw6B0K2Jc8Fz",
        "outputId": "0997deda-3603-4462-b685-2e95a3015f68",
        "colab": {
          "base_uri": "https://localhost:8080/"
        }
      },
      "cell_type": "code",
      "source": [
        "#reshaping data as needed by the model\n",
        "xtrain=np.reshape(xtrain,(-1,28,28,1))\n",
        "xtest=np.reshape(xtest,(-1,28,28,1))\n",
        "xtrain.shape,xtest.shape,ytrain.shape,ytest.shape"
      ],
      "execution_count": null,
      "outputs": [
        {
          "output_type": "execute_result",
          "data": {
            "text/plain": [
              "((60000, 28, 28, 1), (10000, 28, 28, 1), (60000,), (10000,))"
            ]
          },
          "metadata": {},
          "execution_count": 5
        }
      ]
    },
    {
      "metadata": {
        "id": "O_JncxhQARaI"
      },
      "cell_type": "code",
      "source": [
        "#normalising\n",
        "xtrain=xtrain/255\n",
        "xtest=xtest/255"
      ],
      "execution_count": null,
      "outputs": []
    },
    {
      "metadata": {
        "id": "lnvVkc6ec8F3"
      },
      "cell_type": "code",
      "source": [
        "#implementing one hot encoding\n",
        "from keras.utils.np_utils import to_categorical\n",
        "y_train = to_categorical(ytrain, num_classes=10)\n",
        "y_test = to_categorical(ytest, num_classes=10)"
      ],
      "execution_count": null,
      "outputs": []
    },
    {
      "metadata": {
        "id": "Pkvwf0pLc8F5"
      },
      "cell_type": "code",
      "source": [
        "#importing the model\n",
        "from keras.models import Sequential"
      ],
      "execution_count": null,
      "outputs": []
    },
    {
      "metadata": {
        "id": "Z-ltHdtbc8F7"
      },
      "cell_type": "code",
      "source": [
        "#creating model object\n",
        "model=Sequential()"
      ],
      "execution_count": null,
      "outputs": []
    },
    {
      "metadata": {
        "id": "9HwMYc_fc8F9"
      },
      "cell_type": "code",
      "source": [
        "#importing layers\n",
        "from keras.layers import Conv2D,MaxPooling2D,Flatten,Dense,Dropout"
      ],
      "execution_count": null,
      "outputs": []
    },
    {
      "metadata": {
        "id": "W6sDtwOec8GB"
      },
      "cell_type": "code",
      "source": [
        "#adding layers and forming the model\n",
        "model.add(Conv2D(32,kernel_size=5,strides=1,padding=\"Same\",activation=\"relu\",input_shape=(28,28,1)))\n",
        "model.add(MaxPooling2D(padding=\"same\"))\n",
        "\n",
        "model.add(Conv2D(64,kernel_size=5,strides=1,padding=\"same\",activation=\"relu\"))\n",
        "model.add(MaxPooling2D(padding=\"same\"))\n",
        "\n",
        "model.add(Flatten())\n",
        "\n",
        "model.add(Dense(1024,activation=\"relu\"))\n",
        "model.add(Dropout(0.2))\n",
        "model.add(Dense(10,activation=\"sigmoid\"))"
      ],
      "execution_count": null,
      "outputs": []
    },
    {
      "metadata": {
        "id": "TUQetKGHc8GE"
      },
      "cell_type": "code",
      "source": [
        "#compiling\n",
        "model.compile(optimizer=\"adam\",loss=\"categorical_crossentropy\",metrics=[\"accuracy\"])"
      ],
      "execution_count": null,
      "outputs": []
    },
    {
      "cell_type": "code",
      "source": [
        "from tensorflow.keras.callbacks import EarlyStopping\n",
        "early_stop = EarlyStopping(monitor='val_loss',patience=2)"
      ],
      "metadata": {
        "id": "nGNptuILTlEW"
      },
      "execution_count": null,
      "outputs": []
    },
    {
      "metadata": {
        "id": "KYU-n7F9c8GH",
        "outputId": "a0c8792e-139f-477f-db35-15f317c86050",
        "colab": {
          "base_uri": "https://localhost:8080/"
        }
      },
      "cell_type": "code",
      "source": [
        "#training the model\n",
        "model.fit(xtrain,y_train,batch_size=100,epochs=5,validation_data=(xtest,y_test),callbacks=[early_stop])"
      ],
      "execution_count": null,
      "outputs": [
        {
          "output_type": "stream",
          "name": "stdout",
          "text": [
            "Epoch 1/5\n",
            "600/600 [==============================] - 4s 6ms/step - loss: 0.0124 - accuracy: 0.9961 - val_loss: 0.0263 - val_accuracy: 0.9916\n",
            "Epoch 2/5\n",
            "600/600 [==============================] - 4s 7ms/step - loss: 0.0111 - accuracy: 0.9963 - val_loss: 0.0385 - val_accuracy: 0.9896\n",
            "Epoch 3/5\n",
            "600/600 [==============================] - 4s 6ms/step - loss: 0.0096 - accuracy: 0.9969 - val_loss: 0.0257 - val_accuracy: 0.9927\n",
            "Epoch 4/5\n",
            "600/600 [==============================] - 4s 6ms/step - loss: 0.0076 - accuracy: 0.9973 - val_loss: 0.0298 - val_accuracy: 0.9910\n",
            "Epoch 5/5\n",
            "600/600 [==============================] - 4s 6ms/step - loss: 0.0079 - accuracy: 0.9974 - val_loss: 0.0353 - val_accuracy: 0.9914\n"
          ]
        },
        {
          "output_type": "execute_result",
          "data": {
            "text/plain": [
              "<keras.callbacks.History at 0x7f97322f71d0>"
            ]
          },
          "metadata": {},
          "execution_count": 23
        }
      ]
    },
    {
      "metadata": {
        "id": "X9rt0HiFc8GK",
        "outputId": "12af95d8-a082-49d7-f9b2-ea6c6c395a60",
        "colab": {
          "base_uri": "https://localhost:8080/"
        }
      },
      "cell_type": "code",
      "source": [
        "#model train and test scores\n",
        "model.evaluate(xtrain,y_train),model.evaluate(xtest,y_test)"
      ],
      "execution_count": null,
      "outputs": [
        {
          "output_type": "stream",
          "name": "stdout",
          "text": [
            "1875/1875 [==============================] - 6s 3ms/step - loss: 0.0045 - accuracy: 0.9983\n",
            "313/313 [==============================] - 1s 4ms/step - loss: 0.0353 - accuracy: 0.9914\n"
          ]
        },
        {
          "output_type": "execute_result",
          "data": {
            "text/plain": [
              "([0.0045019639655947685, 0.9983333349227905],\n",
              " [0.035312220454216, 0.9914000034332275])"
            ]
          },
          "metadata": {},
          "execution_count": 24
        }
      ]
    },
    {
      "cell_type": "code",
      "source": [
        "print(model.metrics_names)\n",
        "print(model.evaluate(xtest,y_test,verbose=0))"
      ],
      "metadata": {
        "colab": {
          "base_uri": "https://localhost:8080/"
        },
        "id": "tqOJRf6OTFrh",
        "outputId": "4c020e1b-ee65-4913-90bc-696e1b1844a8"
      },
      "execution_count": null,
      "outputs": [
        {
          "output_type": "stream",
          "name": "stdout",
          "text": [
            "['loss', 'accuracy']\n",
            "[0.035312220454216, 0.9914000034332275]\n"
          ]
        }
      ]
    },
    {
      "cell_type": "code",
      "source": [
        "print(model.metrics_names)\n",
        "print(model.evaluate(xtrain,y_train,verbose=0))"
      ],
      "metadata": {
        "id": "eCsQCRn8Ucsm",
        "outputId": "8a23926b-39cf-4d14-cc1f-721c721a9db3",
        "colab": {
          "base_uri": "https://localhost:8080/"
        }
      },
      "execution_count": null,
      "outputs": [
        {
          "output_type": "stream",
          "name": "stdout",
          "text": [
            "['loss', 'accuracy']\n",
            "[0.0045019639655947685, 0.9983333349227905]\n"
          ]
        }
      ]
    },
    {
      "cell_type": "code",
      "source": [
        "my_number = xtest[0]"
      ],
      "metadata": {
        "id": "SeDXJgYeQ-Dp"
      },
      "execution_count": null,
      "outputs": []
    },
    {
      "cell_type": "code",
      "source": [
        "plt.imshow(my_number.reshape(28,28))"
      ],
      "metadata": {
        "colab": {
          "base_uri": "https://localhost:8080/",
          "height": 282
        },
        "id": "lz8NSycMQ_YA",
        "outputId": "bd8452c0-dfeb-4eca-9caf-381d961d9fba"
      },
      "execution_count": null,
      "outputs": [
        {
          "output_type": "execute_result",
          "data": {
            "text/plain": [
              "<matplotlib.image.AxesImage at 0x7f971c3c2410>"
            ]
          },
          "metadata": {},
          "execution_count": 28
        },
        {
          "output_type": "display_data",
          "data": {
            "text/plain": [
              "<Figure size 432x288 with 1 Axes>"
            ],
            "image/png": "[encoded data removed]"
          },
          "metadata": {
            "needs_background": "light"
          }
        }
      ]
    },
    {
      "cell_type": "code",
      "source": [
        "model.predict(my_number.reshape(1,28,28,1))"
      ],
      "metadata": {
        "colab": {
          "base_uri": "https://localhost:8080/"
        },
        "id": "otjdflruRCbN",
        "outputId": "f9f982d5-b0ac-4405-b7bb-cf1a2392b686"
      },
      "execution_count": null,
      "outputs": [
        {
          "output_type": "stream",
          "name": "stdout",
          "text": [
            "1/1 [==============================] - 0s 15ms/step\n"
          ]
        },
        {
          "output_type": "execute_result",
          "data": {
            "text/plain": [
              "array([[5.0584382e-05, 6.8004668e-04, 2.1415849e-07, 3.3159226e-03,\n",
              "        4.0612422e-02, 1.0907487e-05, 4.4410453e-09, 1.0000000e+00,\n",
              "        2.5811911e-05, 9.0618825e-01]], dtype=float32)"
            ]
          },
          "metadata": {},
          "execution_count": 29
        }
      ]
    },
    {
      "cell_type": "code",
      "source": [
        "predict_x=model.predict(my_number.reshape(1,28,28,1)) \n",
        "classes_x=np.argmax(predict_x,axis=1)"
      ],
      "metadata": {
        "colab": {
          "base_uri": "https://localhost:8080/"
        },
        "id": "SjOssAoPRD2Q",
        "outputId": "f0b8e3a4-96da-4afa-9087-e6a5b8791f83"
      },
      "execution_count": null,
      "outputs": [
        {
          "output_type": "stream",
          "name": "stdout",
          "text": [
            "1/1 [==============================] - 0s 14ms/step\n"
          ]
        }
      ]
    },
    {
      "cell_type": "code",
      "source": [
        "plt.imshow(predict_x)"
      ],
      "metadata": {
        "colab": {
          "base_uri": "https://localhost:8080/",
          "height": 102
        },
        "id": "3sjnmr8kRFEi",
        "outputId": "4de8c4c8-9c55-4b8f-e141-a41cc32aca21"
      },
      "execution_count": null,
      "outputs": [
        {
          "output_type": "execute_result",
          "data": {
            "text/plain": [
              "<matplotlib.image.AxesImage at 0x7f9732048d10>"
            ]
          },
          "metadata": {},
          "execution_count": 31
        },
        {
          "output_type": "display_data",
          "data": {
            "text/plain": [
              "<Figure size 432x288 with 1 Axes>"
            ],
            "image/png": "[encoded data removed]"
          },
          "metadata": {
            "needs_background": "light"
          }
        }
      ]
    },
    {
      "cell_type": "code",
      "source": [
        "model.save(\"CNN_MNIST_v1.h5\")"
      ],
      "metadata": {
        "id": "escO3vDqn8X9"
      },
      "execution_count": null,
      "outputs": []
    },
    {
      "cell_type": "code",
      "source": [
        "from tensorflow import keras\n",
        "model = keras.models.load_model('CNN_MNIST_v1.h5')"
      ],
      "metadata": {
        "id": "Gan8nIGRQyu_"
      },
      "execution_count": null,
      "outputs": []
    },
    {
      "cell_type": "code",
      "source": [
        "model.summary()"
      ],
      "metadata": {
        "colab": {
          "base_uri": "https://localhost:8080/"
        },
        "id": "87cdYuvOQziQ",
        "outputId": "3d55c7b0-ebe9-4652-e625-e7243b885a5b"
      },
      "execution_count": null,
      "outputs": [
        {
          "output_type": "stream",
          "name": "stdout",
          "text": [
            "Model: \"sequential\"\n",
            "_________________________________________________________________\n",
            " Layer (type)                Output Shape              Param #   \n",
            "=================================================================\n",
            " conv2d (Conv2D)             (None, 28, 28, 32)        832       \n",
            "                                                                 \n",
            " max_pooling2d (MaxPooling2D  (None, 14, 14, 32)       0         \n",
            " )                                                               \n",
            "                                                                 \n",
            " conv2d_1 (Conv2D)           (None, 14, 14, 64)        51264     \n",
            "                                                                 \n",
            " max_pooling2d_1 (MaxPooling  (None, 7, 7, 64)         0         \n",
            " 2D)                                                             \n",
            "                                                                 \n",
            " flatten (Flatten)           (None, 3136)              0         \n",
            "                                                                 \n",
            " dense (Dense)               (None, 1024)              3212288   \n",
            "                                                                 \n",
            " dropout (Dropout)           (None, 1024)              0         \n",
            "                                                                 \n",
            " dense_1 (Dense)             (None, 10)                10250     \n",
            "                                                                 \n",
            "=================================================================\n",
            "Total params: 3,274,634\n",
            "Trainable params: 3,274,634\n",
            "Non-trainable params: 0\n",
            "_________________________________________________________________\n"
          ]
        }
      ]
    },
    {
      "cell_type": "code",
      "source": [
        "model_test = xtest[3]"
      ],
      "metadata": {
        "id": "WyqQqER_JVcG"
      },
      "execution_count": null,
      "outputs": []
    },
    {
      "cell_type": "code",
      "source": [
        "plt.imshow(model_test.reshape(28,28))"
      ],
      "metadata": {
        "colab": {
          "base_uri": "https://localhost:8080/",
          "height": 282
        },
        "id": "SZRRDiktJZGz",
        "outputId": "3ab2d2b0-1574-4b22-bab5-a03b49c35beb"
      },
      "execution_count": null,
      "outputs": [
        {
          "output_type": "execute_result",
          "data": {
            "text/plain": [
              "<matplotlib.image.AxesImage at 0x7f970442f2d0>"
            ]
          },
          "metadata": {},
          "execution_count": 72
        },
        {
          "output_type": "display_data",
          "data": {
            "text/plain": [
              "<Figure size 432x288 with 1 Axes>"
            ],
            "image/png": "[encoded data removed]"
          },
          "metadata": {
            "needs_background": "light"
          }
        }
      ]
    },
    {
      "cell_type": "code",
      "source": [
        "model.predict(model_test.reshape(1,28,28,1))"
      ],
      "metadata": {
        "colab": {
          "base_uri": "https://localhost:8080/"
        },
        "id": "A4KoiVDCJ4KY",
        "outputId": "21c37629-82cf-4fa2-cce4-13a11ac0036e"
      },
      "execution_count": null,
      "outputs": [
        {
          "output_type": "stream",
          "name": "stdout",
          "text": [
            "1/1 [==============================] - 0s 18ms/step\n"
          ]
        },
        {
          "output_type": "execute_result",
          "data": {
            "text/plain": [
              "array([[1.0000000e+00, 3.2288938e-06, 4.2156418e-05, 1.7493179e-05,\n",
              "        6.7541498e-04, 1.2292576e-04, 6.1876738e-01, 7.0025325e-01,\n",
              "        1.2708234e-03, 8.6274632e-04]], dtype=float32)"
            ]
          },
          "metadata": {},
          "execution_count": 73
        }
      ]
    },
    {
      "cell_type": "code",
      "source": [
        "predictions=model.predict(model_test.reshape(1,28,28,1)) \n",
        "classes_x=np.argmax(predict_x,axis=1)"
      ],
      "metadata": {
        "colab": {
          "base_uri": "https://localhost:8080/"
        },
        "id": "cQCrwm7vJ9Le",
        "outputId": "fd71fe30-1377-430e-9462-453ccff45843"
      },
      "execution_count": null,
      "outputs": [
        {
          "output_type": "stream",
          "name": "stdout",
          "text": [
            "1/1 [==============================] - 0s 16ms/step\n"
          ]
        }
      ]
    },
    {
      "cell_type": "code",
      "source": [
        "plt.imshow(predictions)"
      ],
      "metadata": {
        "colab": {
          "base_uri": "https://localhost:8080/",
          "height": 102
        },
        "id": "zDlyWu_1KIg7",
        "outputId": "6fa01c8c-f9b5-4b28-93d6-afb71e80d50a"
      },
      "execution_count": null,
      "outputs": [
        {
          "output_type": "execute_result",
          "data": {
            "text/plain": [
              "<matplotlib.image.AxesImage at 0x7f97044a2550>"
            ]
          },
          "metadata": {},
          "execution_count": 75
        },
        {
          "output_type": "display_data",
          "data": {
            "text/plain": [
              "<Figure size 432x288 with 1 Axes>"
            ],
            "image/png": "[encoded data removed]"
          },
          "metadata": {
            "needs_background": "light"
          }
        }
      ]
    },
    {
      "cell_type": "code",
      "source": [],
      "metadata": {
        "id": "44WDuRCILFUS"
      },
      "execution_count": null,
      "outputs": []
    }
  ]
}